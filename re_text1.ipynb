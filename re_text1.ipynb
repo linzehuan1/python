{
 "cells": [
  {
   "cell_type": "code",
   "execution_count": 1,
   "metadata": {},
   "outputs": [
    {
     "name": "stdout",
     "output_type": "stream",
     "text": [
      "文本最重要的来源无疑是网络\n",
      "我们要把网络中的文本获取形成一个文本数据库\n"
     ]
    }
   ],
   "source": [
    "text = '文本最重要的来源无疑是网络。我们要把网络中的文本获取形成一个文本数据库。利用一个爬虫抓取到网络中的信息。爬取的策略有广度爬取和深度爬取。根据用户的需求，爬虫可以有主题爬虫和通用爬虫之分。'\n",
    "import re\n",
    "\n",
    "regex = '文本'\n",
    "text_split = text.split('。')\n",
    "for line in text_split:\n",
    "    if re.search(regex,line):\n",
    "        print(line)\n",
    "        "
   ]
  },
  {
   "cell_type": "code",
   "execution_count": 1,
   "metadata": {},
   "outputs": [
    {
     "name": "stdout",
     "output_type": "stream",
     "text": [
      "<re.Match object; span=(14, 15), match='\\\\'>\n"
     ]
    }
   ],
   "source": [
    "import re\n",
    "if re.search(r'\\\\','i have one nee\\dle')is not None:\n",
    "    print(re.search(r'\\\\','i have one nee\\dle'))\n",
    "else:\n",
    "    print(\"not match\")"
   ]
  },
  {
   "cell_type": "code",
   "execution_count": 11,
   "metadata": {},
   "outputs": [
    {
     "name": "stdout",
     "output_type": "stream",
     "text": [
      "War of 1812\n",
      "Happy New Year 2016!\n"
     ]
    }
   ],
   "source": [
    "import re\n",
    "strings = ['War of 1812','There are 5280 feet to a mile','Happy New Year 2016!']\n",
    "re1 = '[1-2][0-9]{3}'\n",
    "for line in strings:\n",
    "    if re.search(re1,line):\n",
    "        print(line)"
   ]
  },
  {
   "cell_type": "code",
   "execution_count": 12,
   "metadata": {},
   "outputs": [
    {
     "name": "stdout",
     "output_type": "stream",
     "text": [
      "['2016', '2017']\n"
     ]
    }
   ],
   "source": [
    "import re\n",
    "years_string = '2016 was a good year, but 2017 will by better!'\n",
    "a = re.findall('[1-2][0-9]{3}',years_string)\n",
    "print(a)"
   ]
  },
  {
   "cell_type": "code",
   "execution_count": null,
   "metadata": {},
   "outputs": [],
   "source": []
  }
 ],
 "metadata": {
  "kernelspec": {
   "display_name": "Python 3",
   "language": "python",
   "name": "python3"
  },
  "language_info": {
   "codemirror_mode": {
    "name": "ipython",
    "version": 3
   },
   "file_extension": ".py",
   "mimetype": "text/x-python",
   "name": "python",
   "nbconvert_exporter": "python",
   "pygments_lexer": "ipython3",
   "version": "3.7.0"
  }
 },
 "nbformat": 4,
 "nbformat_minor": 2
}
